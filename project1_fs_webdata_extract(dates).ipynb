{
 "cells": [
  {
   "cell_type": "code",
   "execution_count": 4,
   "id": "ec53cb91",
   "metadata": {},
   "outputs": [],
   "source": [
    "pip install undetected-chromedriver"
   ]
  },
  {
   "cell_type": "code",
   "execution_count": 5,
   "id": "ce235e5d",
   "metadata": {},
   "outputs": [],
   "source": [
    "pip install futures"
   ]
  },
  {
   "cell_type": "code",
   "execution_count": 1,
   "id": "11b722da",
   "metadata": {},
   "outputs": [],
   "source": [
    "import undetected_chromedriver as uc\n",
    "from selenium import webdriver\n",
    "from selenium.webdriver.support.ui import WebDriverWait\n",
    "from selenium.webdriver.support.wait import WebDriverWait\n",
    "from selenium.webdriver.support import expected_conditions as EC\n",
    "from selenium.common.exceptions import NoSuchElementException\n",
    "from selenium.common.exceptions import StaleElementReferenceException\n",
    "from selenium.webdriver.support import expected_conditions\n",
    "from selenium.webdriver.common.by import By\n",
    "from bs4 import BeautifulSoup\n",
    "from functools import reduce\n",
    "\n",
    "import mysql.connector as mysql\n",
    "from mysql.connector import Error\n",
    "\n",
    "import pandas as pd\n",
    "import time\n",
    "import datetime\n",
    "import re\n",
    "\n",
    "from concurrent.futures import ThreadPoolExecutor"
   ]
  },
  {
   "cell_type": "code",
   "execution_count": 1,
   "id": "175624ae",
   "metadata": {
    "scrolled": true
   },
   "outputs": [
    {
     "data": {
      "text/plain": [
       "'data = pd.read_csv(\"D:/Images2/Date_FS.csv\")\\nprint(data)\\n\\nconn = mysql.connect(host=\\'localhost\\', database=\\'****\\', user=\\'newuser\\', password=\\'l******d\\', auth_plugin=\\'mysql_native_password\\')\\nif conn.is_connected():\\n    cursor = conn.cursor()\\n    cursor.execute(\"select database();\")\\n    record = cursor.fetchone()'"
      ]
     },
     "execution_count": 1,
     "metadata": {},
     "output_type": "execute_result"
    }
   ],
   "source": [
    "data = pd.read_csv(\"D:/Images2/Date_FS.csv\")\n",
    "print(data)\n",
    "\n",
    "conn = mysql.connect(host='localhost', database='****', user='newuser', password='l******d', auth_plugin='mysql_native_password')\n",
    "if conn.is_connected():\n",
    "    cursor = conn.cursor()\n",
    "    cursor.execute(\"select database();\")\n",
    "    record = cursor.fetchone()"
   ]
  },
  {
   "cell_type": "code",
   "execution_count": 2,
   "id": "ab87eb23",
   "metadata": {},
   "outputs": [
    {
     "data": {
      "text/plain": [
       "'options = uc.ChromeOptions()\\noptions.add_argument(\"start-maxmized\")\\ndriver = uc.Chrome(options=options)\\n\\nrows = []\\n\\nfor i in data[\\'URLs\\']:\\n    row = {}\\n    \\n    driver.get(i)\\n    time.sleep(3)\\n    \\n    date = driver.find_element(By.XPATH, \"//div[@class=\\'data1Css_dhsszr2 typeBaseCss_tf6xlml\\']\").text\\n    \\n    row[\\'URL\\'] = i\\n    row[\\'descriptions\\'] = date\\n    \\n    #rows.append(row)\\n    \\n    sql = \\'INSERT INTO `new_table` VALUES(%s, %s)\\'\\n    cursor.execute(sql, tuple(row.values()))\\n    \\n    conn.commit()\\n    \\n    print(tuple(row.values()))'"
      ]
     },
     "execution_count": 2,
     "metadata": {},
     "output_type": "execute_result"
    }
   ],
   "source": [
    "options = uc.ChromeOptions()\n",
    "options.add_argument(\"start-maxmized\")\n",
    "driver = uc.Chrome(options=options)\n",
    "\n",
    "rows = []\n",
    "\n",
    "for i in data['URLs']:\n",
    "    row = {}\n",
    "    \n",
    "    driver.get(i)\n",
    "    time.sleep(3)\n",
    "    \n",
    "    date = driver.find_element(By.XPATH, \"//div[@class='data1Css_dhsszr2 typeBaseCss_tf6xlml']\").text\n",
    "    \n",
    "    row['URL'] = i\n",
    "    row['descriptions'] = date\n",
    "    \n",
    "    #rows.append(row)\n",
    "    \n",
    "    sql = 'INSERT INTO `new_table` VALUES(%s, %s)'\n",
    "    cursor.execute(sql, tuple(row.values()))\n",
    "    \n",
    "    conn.commit()\n",
    "    \n",
    "    print(tuple(row.values()))\n"
   ]
  },
  {
   "cell_type": "code",
   "execution_count": 3,
   "id": "12678f6f",
   "metadata": {},
   "outputs": [
    {
     "data": {
      "text/plain": [
       "'def extract_info(url):\\n    \\n    print(\"extracting: \", url)\\n    \\n    options = uc.ChromeOptions()\\n    options.add_argument(\"start-maxmized\")\\n    #options.add_argument(\"--headless\")\\n    driver = uc.Chrome(options=options)\\n\\n    rows = []\\n    for i in url:\\n    \\n        row = {}\\n\\n        driver.get(i)\\n        time.sleep(3)\\n\\n        date = driver.find_element(By.XPATH, \"//div[@class=\\'data1Css_dhsszr2 typeBaseCss_tf6xlml\\']\").text\\n\\n        row[\\'URL\\'] = i\\n        row[\\'descriptions\\'] = date\\n\\n        #rows.append(row)\\n\\n        sql = \\'INSERT INTO `new_table` VALUES(%s, %s)\\'\\n        cursor.execute(sql, tuple(row.values()))\\n\\n        conn.commit()\\n\\n        print(\"inserted into sql\")\\n\\n\\nurls = data[\\'URLs\\'].to_list()\\n\\nwith ThreadPoolExecutor(max_workers=2) as executor:\\n    executor.map(extract_info, data[\\'URLs\\'])'"
      ]
     },
     "execution_count": 3,
     "metadata": {},
     "output_type": "execute_result"
    }
   ],
   "source": [
    "def extract_info(url):\n",
    "    \n",
    "    print(\"extracting: \", url)\n",
    "    \n",
    "    options = uc.ChromeOptions()\n",
    "    options.add_argument(\"start-maxmized\")\n",
    "    #options.add_argument(\"--headless\")\n",
    "    driver = uc.Chrome(options=options)\n",
    "\n",
    "    rows = []\n",
    "    for i in url:\n",
    "    \n",
    "        row = {}\n",
    "\n",
    "        driver.get(i)\n",
    "        time.sleep(3)\n",
    "\n",
    "        date = driver.find_element(By.XPATH, \"//div[@class='data1Css_dhsszr2 typeBaseCss_tf6xlml']\").text\n",
    "\n",
    "        row['URL'] = i\n",
    "        row['descriptions'] = date\n",
    "\n",
    "        #rows.append(row)\n",
    "\n",
    "        sql = 'INSERT INTO `new_table` VALUES(%s, %s)'\n",
    "        cursor.execute(sql, tuple(row.values()))\n",
    "\n",
    "        conn.commit()\n",
    "\n",
    "        print(\"inserted into sql\")\n",
    "\n",
    "\n",
    "urls = data['URLs'].to_list()\n",
    "\n",
    "with ThreadPoolExecutor(max_workers=2) as executor:\n",
    "    executor.map(extract_info, data['URLs'])\n"
   ]
  },
  {
   "cell_type": "code",
   "execution_count": null,
   "id": "949606fd",
   "metadata": {},
   "outputs": [],
   "source": []
  }
 ],
 "metadata": {
  "kernelspec": {
   "display_name": "Python 3 (ipykernel)",
   "language": "python",
   "name": "python3"
  },
  "language_info": {
   "codemirror_mode": {
    "name": "ipython",
    "version": 3
   },
   "file_extension": ".py",
   "mimetype": "text/x-python",
   "name": "python",
   "nbconvert_exporter": "python",
   "pygments_lexer": "ipython3",
   "version": "3.9.7"
  }
 },
 "nbformat": 4,
 "nbformat_minor": 5
}
