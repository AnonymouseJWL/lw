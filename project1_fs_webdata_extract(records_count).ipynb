{
 "cells": [
  {
   "cell_type": "code",
   "execution_count": 8,
   "id": "eb6de69a",
   "metadata": {},
   "outputs": [],
   "source": [
    "import undetected_chromedriver as uc\n",
    "from selenium import webdriver\n",
    "from selenium.webdriver.support.ui import WebDriverWait\n",
    "from selenium.webdriver.support.wait import WebDriverWait\n",
    "from selenium.webdriver.support import expected_conditions as EC\n",
    "from selenium.common.exceptions import NoSuchElementException\n",
    "from selenium.common.exceptions import StaleElementReferenceException\n",
    "from selenium.webdriver.support import expected_conditions\n",
    "from selenium.webdriver.common.by import By\n",
    "from bs4 import BeautifulSoup\n",
    "from functools import reduce\n",
    "from selenium.common.exceptions import TimeoutException\n",
    "\n",
    "import mysql.connector as mysql\n",
    "from mysql.connector import Error\n",
    "\n",
    "import pandas as pd\n",
    "import time\n",
    "import datetime\n",
    "import re"
   ]
  },
  {
   "cell_type": "code",
   "execution_count": 1,
   "id": "d59ea403",
   "metadata": {},
   "outputs": [
    {
     "data": {
      "text/plain": [
       "'data = pd.read_csv(\"D:/Images2/Population_FS.csv\")\\nprint(data)\\n\\nconn = mysql.connect(host=\\'localhost\\', database=\\'****\\', user=\\'newuser\\', password=\\'l******d\\', auth_plugin=\\'mysql_native_password\\')\\nif conn.is_connected():\\n    cursor = conn.cursor()\\n    cursor.execute(\"select database();\")\\n    record = cursor.fetchone()'"
      ]
     },
     "execution_count": 1,
     "metadata": {},
     "output_type": "execute_result"
    }
   ],
   "source": [
    "data = pd.read_csv(\"D:/Images2/Population_FS.csv\")\n",
    "print(data)\n",
    "\n",
    "conn = mysql.connect(host='localhost', database='****', user='newuser', password='l******d', auth_plugin='mysql_native_password')\n",
    "if conn.is_connected():\n",
    "    cursor = conn.cursor()\n",
    "    cursor.execute(\"select database();\")\n",
    "    record = cursor.fetchone()"
   ]
  },
  {
   "cell_type": "code",
   "execution_count": 2,
   "id": "6d9b7b59",
   "metadata": {},
   "outputs": [
    {
     "data": {
      "text/plain": [
       "'while True:    \\n    options = uc.ChromeOptions()\\n    options.add_argument(\"start-maxmized\")\\n    driver = uc.Chrome(options=options)\\n    driver.maximize_window()\\n\\n    url = \"https://www.familysearch.org/search/record/results?q.anyDate.from=1000&q.anyDate.to=9999&f.collectionId=1661470\"\\n    driver.get(\"https://www.familysearch.org/search/record/results?q.anyDate.from=1000&q.anyDate.to=9999&f.collectionId=1661470\")\\n\\n    WebDriverWait(driver, 30).until(EC.element_to_be_clickable((By.XPATH, \\'//*[@id=\"userName\"]\\'))).send_keys(\"wendycyw\")\\n    WebDriverWait(driver, 30).until(EC.element_to_be_clickable((By.XPATH, \\'//*[@id=\"password\"]\\'))).send_keys(\"lifewood123\")\\n    WebDriverWait(driver, 30).until(EC.element_to_be_clickable((By.XPATH, \\'//*[@id=\"login\"]\\'))).click()\\n\\n\\n    try:\\n        for index, i in data.iterrows():\\n            \\n            time.sleep(5)\\n            driver.get(i[\\'url\\'])\\n\\n            row = {}\\n\\n            WebDriverWait(driver, 30).until(EC.presence_of_element_located((By.XPATH, \\'//*[@id=\"resultsContainer\"]/div/div/div/div/div/div[1]/div[1]/div/div[2]/div/div/div[1]\\')))\\n            time.sleep(2)\\n            population = driver.find_element(By.XPATH, \\'//*[@id=\"resultsContainer\"]/div/div/div/div/div/div[1]/div[1]/div/div[2]/div/div/div[1]\\').text\\n\\n            row[\\'URL\\'] = i[\\'url\\']\\n            row[\\'population\\'] = population\\n            \\n            if row[\\'population\\'] != \"\":\\n                \\n                sql = \\'INSERT INTO `population` VALUES(%s, %s)\\'\\n                cursor.execute(sql, tuple(row.values()))\\n\\n                conn.commit()\\n\\n                print(tuple(row.values()))\\n\\n                data.drop(index, inplace=True)\\n            \\n            else:\\n                \\n                driver.refresh()\\n                time.sleep(8)\\n                \\n                driver.get(i[\\'url\\'])\\n\\n                row = {}\\n\\n                WebDriverWait(driver, 30).until(EC.presence_of_element_located((By.XPATH, \\'//*[@id=\"resultsContainer\"]/div/div/div/div/div/div[1]/div[1]/div/div[2]/div/div/div[1]\\')))\\n                time.sleep(2)\\n                population = driver.find_element(By.XPATH, \\'//*[@id=\"resultsContainer\"]/div/div/div/div/div/div[1]/div[1]/div/div[2]/div/div/div[1]\\').text\\n\\n                row[\\'URL\\'] = i[\\'url\\']\\n                row[\\'population\\'] = population\\n                \\n                sql = \\'INSERT INTO `population` VALUES(%s, %s)\\'\\n                cursor.execute(sql, tuple(row.values()))\\n\\n                conn.commit()\\n\\n                print(tuple(row.values()))\\n\\n                data.drop(index, inplace=True)\\n                \\n    except TimeoutException:\\n        driver.refresh()\\n        time.sleep(8)\\n        continue'"
      ]
     },
     "execution_count": 2,
     "metadata": {},
     "output_type": "execute_result"
    }
   ],
   "source": [
    "while True:    \n",
    "    options = uc.ChromeOptions()\n",
    "    options.add_argument(\"start-maxmized\")\n",
    "    driver = uc.Chrome(options=options)\n",
    "    driver.maximize_window()\n",
    "\n",
    "    url = \"https://www.familysearch.org/search/record/results?q.anyDate.from=1000&q.anyDate.to=9999&f.collectionId=1661470\"\n",
    "    driver.get(\"https://www.familysearch.org/search/record/results?q.anyDate.from=1000&q.anyDate.to=9999&f.collectionId=1661470\")\n",
    "\n",
    "    WebDriverWait(driver, 30).until(EC.element_to_be_clickable((By.XPATH, '//*[@id=\"userName\"]'))).send_keys(\"****\")\n",
    "    WebDriverWait(driver, 30).until(EC.element_to_be_clickable((By.XPATH, '//*[@id=\"password\"]'))).send_keys(\"****\")\n",
    "    WebDriverWait(driver, 30).until(EC.element_to_be_clickable((By.XPATH, '//*[@id=\"login\"]'))).click()\n",
    "\n",
    "\n",
    "    try:\n",
    "        for index, i in data.iterrows():\n",
    "            \n",
    "            time.sleep(5)\n",
    "            driver.get(i['url'])\n",
    "\n",
    "            row = {}\n",
    "\n",
    "            WebDriverWait(driver, 30).until(EC.presence_of_element_located((By.XPATH, '//*[@id=\"resultsContainer\"]/div/div/div/div/div/div[1]/div[1]/div/div[2]/div/div/div[1]')))\n",
    "            time.sleep(2)\n",
    "            population = driver.find_element(By.XPATH, '//*[@id=\"resultsContainer\"]/div/div/div/div/div/div[1]/div[1]/div/div[2]/div/div/div[1]').text\n",
    "\n",
    "            row['URL'] = i['url']\n",
    "            row['population'] = population\n",
    "            \n",
    "            if row['population'] != \"\":\n",
    "                \n",
    "                sql = 'INSERT INTO `population` VALUES(%s, %s)'\n",
    "                cursor.execute(sql, tuple(row.values()))\n",
    "\n",
    "                conn.commit()\n",
    "\n",
    "                print(tuple(row.values()))\n",
    "\n",
    "                data.drop(index, inplace=True)\n",
    "            \n",
    "            else:\n",
    "                \n",
    "                driver.refresh()\n",
    "                time.sleep(8)\n",
    "                \n",
    "                driver.get(i['url'])\n",
    "\n",
    "                row = {}\n",
    "\n",
    "                WebDriverWait(driver, 30).until(EC.presence_of_element_located((By.XPATH, '//*[@id=\"resultsContainer\"]/div/div/div/div/div/div[1]/div[1]/div/div[2]/div/div/div[1]')))\n",
    "                time.sleep(2)\n",
    "                population = driver.find_element(By.XPATH, '//*[@id=\"resultsContainer\"]/div/div/div/div/div/div[1]/div[1]/div/div[2]/div/div/div[1]').text\n",
    "\n",
    "                row['URL'] = i['url']\n",
    "                row['population'] = population\n",
    "                \n",
    "                sql = 'INSERT INTO `population` VALUES(%s, %s)'\n",
    "                cursor.execute(sql, tuple(row.values()))\n",
    "\n",
    "                conn.commit()\n",
    "\n",
    "                print(tuple(row.values()))\n",
    "\n",
    "                data.drop(index, inplace=True)\n",
    "                \n",
    "    except TimeoutException:\n",
    "        driver.refresh()\n",
    "        time.sleep(8)\n",
    "        continue\n",
    "    "
   ]
  },
  {
   "cell_type": "code",
   "execution_count": null,
   "id": "d89e8615",
   "metadata": {},
   "outputs": [],
   "source": []
  }
 ],
 "metadata": {
  "kernelspec": {
   "display_name": "Python 3 (ipykernel)",
   "language": "python",
   "name": "python3"
  },
  "language_info": {
   "codemirror_mode": {
    "name": "ipython",
    "version": 3
   },
   "file_extension": ".py",
   "mimetype": "text/x-python",
   "name": "python",
   "nbconvert_exporter": "python",
   "pygments_lexer": "ipython3",
   "version": "3.9.7"
  }
 },
 "nbformat": 4,
 "nbformat_minor": 5
}
