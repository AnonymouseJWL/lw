{
 "cells": [
  {
   "cell_type": "code",
   "execution_count": 16,
   "id": "7ed3a889",
   "metadata": {},
   "outputs": [],
   "source": [
    "from ftplib import FTP\n",
    "from datetime import datetime, timedelta\n",
    "import tempfile\n",
    "import csv\n",
    "import os\n",
    "import time\n",
    "\n",
    "import pandas as pd"
   ]
  },
  {
   "cell_type": "code",
   "execution_count": 17,
   "id": "94de00b1",
   "metadata": {},
   "outputs": [
    {
     "data": {
      "text/plain": [
       "'250 CWD command successful'"
      ]
     },
     "execution_count": 17,
     "metadata": {},
     "output_type": "execute_result"
    }
   ],
   "source": [
    "ftp_host = \"**.***.***.**\"    \n",
    "ftp_user = \"****\"\n",
    "ftp_password = \"****\"\n",
    "\n",
    "\n",
    "ftp = FTP(ftp_host, ftp_user, ftp_password)\n",
    "ftp.voidcmd(\"NOOP\")\n",
    "ftp.cwd('old')"
   ]
  },
  {
   "cell_type": "code",
   "execution_count": 77,
   "id": "2306ff82",
   "metadata": {
    "collapsed": true
   },
   "outputs": [
    {
     "name": "stdout",
     "output_type": "stream",
     "text": [
      "Found file BZ/German_xPMbgl_BZ_F_2.txt\n",
      "Found file CK/German_xPMbgl_CK_F_3.txt\n",
      "Found file DH/German_xPMbgl_DH_F_4.txt\n",
      "Found file ECJH/German_xPMbgl_ECJH_F_5.txt\n",
      "Found file SZ/German_xPMbgl_SZ_F_6.txt\n",
      "Found file TQ/German_xPMbgl_TQ_F_7.txt\n"
     ]
    },
    {
     "ename": "error_perm",
     "evalue": "501 Couldn't open the directory",
     "output_type": "error",
     "traceback": [
      "\u001b[1;31m---------------------------------------------------------------------------\u001b[0m",
      "\u001b[1;31merror_perm\u001b[0m                                Traceback (most recent call last)",
      "\u001b[1;32mC:\\Users\\JIAWEI~1\\AppData\\Local\\Temp/ipykernel_12996/178645599.py\u001b[0m in \u001b[0;36m<module>\u001b[1;34m\u001b[0m\n\u001b[0;32m     37\u001b[0m \u001b[1;33m\u001b[0m\u001b[0m\n\u001b[0;32m     38\u001b[0m \u001b[0mallfiles\u001b[0m \u001b[1;33m=\u001b[0m \u001b[1;33m[\u001b[0m\u001b[1;33m]\u001b[0m\u001b[1;33m\u001b[0m\u001b[1;33m\u001b[0m\u001b[0m\n\u001b[1;32m---> 39\u001b[1;33m \u001b[0mall_dirs\u001b[0m \u001b[1;33m=\u001b[0m \u001b[0mget_all_dirs_ftp\u001b[0m\u001b[1;33m(\u001b[0m\u001b[1;33m)\u001b[0m\u001b[1;33m\u001b[0m\u001b[1;33m\u001b[0m\u001b[0m\n\u001b[0m",
      "\u001b[1;32mC:\\Users\\JIAWEI~1\\AppData\\Local\\Temp/ipykernel_12996/178645599.py\u001b[0m in \u001b[0;36mget_all_dirs_ftp\u001b[1;34m(folder)\u001b[0m\n\u001b[0;32m     28\u001b[0m         \u001b[0mnew_dirs\u001b[0m \u001b[1;33m=\u001b[0m \u001b[1;33m[\u001b[0m\u001b[1;33m]\u001b[0m\u001b[1;33m\u001b[0m\u001b[1;33m\u001b[0m\u001b[0m\n\u001b[0;32m     29\u001b[0m         \u001b[1;32mfor\u001b[0m \u001b[0mdir\u001b[0m \u001b[1;32min\u001b[0m \u001b[0mold_dirs\u001b[0m\u001b[1;33m:\u001b[0m\u001b[1;33m\u001b[0m\u001b[1;33m\u001b[0m\u001b[0m\n\u001b[1;32m---> 30\u001b[1;33m             \u001b[1;32mfor\u001b[0m \u001b[0mnew_dir\u001b[0m \u001b[1;32min\u001b[0m \u001b[0mget_dirs_ftp\u001b[0m\u001b[1;33m(\u001b[0m\u001b[0mdir\u001b[0m\u001b[1;33m)\u001b[0m\u001b[1;33m:\u001b[0m\u001b[1;33m\u001b[0m\u001b[1;33m\u001b[0m\u001b[0m\n\u001b[0m\u001b[0;32m     31\u001b[0m                 \u001b[0mnew_dirs\u001b[0m\u001b[1;33m.\u001b[0m\u001b[0mappend\u001b[0m\u001b[1;33m(\u001b[0m\u001b[0mnew_dir\u001b[0m\u001b[1;33m)\u001b[0m\u001b[1;33m\u001b[0m\u001b[1;33m\u001b[0m\u001b[0m\n\u001b[0;32m     32\u001b[0m                 \u001b[1;31m#print(dir)\u001b[0m\u001b[1;33m\u001b[0m\u001b[1;33m\u001b[0m\u001b[0m\n",
      "\u001b[1;32mC:\\Users\\JIAWEI~1\\AppData\\Local\\Temp/ipykernel_12996/178645599.py\u001b[0m in \u001b[0;36mget_dirs_ftp\u001b[1;34m(folder)\u001b[0m\n\u001b[0;32m     11\u001b[0m             \u001b[0mfolders\u001b[0m\u001b[1;33m.\u001b[0m\u001b[0mappend\u001b[0m\u001b[1;33m(\u001b[0m\u001b[0mitem\u001b[0m\u001b[1;33m)\u001b[0m\u001b[1;33m\u001b[0m\u001b[1;33m\u001b[0m\u001b[0m\n\u001b[0;32m     12\u001b[0m             \u001b[1;31m#print(item)\u001b[0m\u001b[1;33m\u001b[0m\u001b[1;33m\u001b[0m\u001b[0m\n\u001b[1;32m---> 13\u001b[1;33m             \u001b[1;32mfor\u001b[0m \u001b[0mname\u001b[0m\u001b[1;33m,\u001b[0m \u001b[0mfacts\u001b[0m \u001b[1;32min\u001b[0m \u001b[0mftp\u001b[0m\u001b[1;33m.\u001b[0m\u001b[0mmlsd\u001b[0m\u001b[1;33m(\u001b[0m\u001b[0mitem\u001b[0m\u001b[1;33m)\u001b[0m\u001b[1;33m:\u001b[0m\u001b[1;33m\u001b[0m\u001b[1;33m\u001b[0m\u001b[0m\n\u001b[0m\u001b[0;32m     14\u001b[0m                 \u001b[1;32mif\u001b[0m \u001b[0mfacts\u001b[0m\u001b[1;33m[\u001b[0m\u001b[1;34m'type'\u001b[0m\u001b[1;33m]\u001b[0m \u001b[1;33m==\u001b[0m \u001b[1;34m'file'\u001b[0m\u001b[1;33m:\u001b[0m\u001b[1;33m\u001b[0m\u001b[1;33m\u001b[0m\u001b[0m\n\u001b[0;32m     15\u001b[0m                     \u001b[0mprint\u001b[0m\u001b[1;33m(\u001b[0m\u001b[1;34mf'Found file {(item + \"/\" + name)}'\u001b[0m\u001b[1;33m)\u001b[0m\u001b[1;33m\u001b[0m\u001b[1;33m\u001b[0m\u001b[0m\n",
      "\u001b[1;32m~\\anaconda3\\lib\\ftplib.py\u001b[0m in \u001b[0;36mmlsd\u001b[1;34m(self, path, facts)\u001b[0m\n\u001b[0;32m    588\u001b[0m             \u001b[0mcmd\u001b[0m \u001b[1;33m=\u001b[0m \u001b[1;34m\"MLSD\"\u001b[0m\u001b[1;33m\u001b[0m\u001b[1;33m\u001b[0m\u001b[0m\n\u001b[0;32m    589\u001b[0m         \u001b[0mlines\u001b[0m \u001b[1;33m=\u001b[0m \u001b[1;33m[\u001b[0m\u001b[1;33m]\u001b[0m\u001b[1;33m\u001b[0m\u001b[1;33m\u001b[0m\u001b[0m\n\u001b[1;32m--> 590\u001b[1;33m         \u001b[0mself\u001b[0m\u001b[1;33m.\u001b[0m\u001b[0mretrlines\u001b[0m\u001b[1;33m(\u001b[0m\u001b[0mcmd\u001b[0m\u001b[1;33m,\u001b[0m \u001b[0mlines\u001b[0m\u001b[1;33m.\u001b[0m\u001b[0mappend\u001b[0m\u001b[1;33m)\u001b[0m\u001b[1;33m\u001b[0m\u001b[1;33m\u001b[0m\u001b[0m\n\u001b[0m\u001b[0;32m    591\u001b[0m         \u001b[1;32mfor\u001b[0m \u001b[0mline\u001b[0m \u001b[1;32min\u001b[0m \u001b[0mlines\u001b[0m\u001b[1;33m:\u001b[0m\u001b[1;33m\u001b[0m\u001b[1;33m\u001b[0m\u001b[0m\n\u001b[0;32m    592\u001b[0m             \u001b[0mfacts_found\u001b[0m\u001b[1;33m,\u001b[0m \u001b[0m_\u001b[0m\u001b[1;33m,\u001b[0m \u001b[0mname\u001b[0m \u001b[1;33m=\u001b[0m \u001b[0mline\u001b[0m\u001b[1;33m.\u001b[0m\u001b[0mrstrip\u001b[0m\u001b[1;33m(\u001b[0m\u001b[0mCRLF\u001b[0m\u001b[1;33m)\u001b[0m\u001b[1;33m.\u001b[0m\u001b[0mpartition\u001b[0m\u001b[1;33m(\u001b[0m\u001b[1;34m' '\u001b[0m\u001b[1;33m)\u001b[0m\u001b[1;33m\u001b[0m\u001b[1;33m\u001b[0m\u001b[0m\n",
      "\u001b[1;32m~\\anaconda3\\lib\\ftplib.py\u001b[0m in \u001b[0;36mretrlines\u001b[1;34m(self, cmd, callback)\u001b[0m\n\u001b[0;32m    460\u001b[0m             \u001b[0mcallback\u001b[0m \u001b[1;33m=\u001b[0m \u001b[0mprint_line\u001b[0m\u001b[1;33m\u001b[0m\u001b[1;33m\u001b[0m\u001b[0m\n\u001b[0;32m    461\u001b[0m         \u001b[0mresp\u001b[0m \u001b[1;33m=\u001b[0m \u001b[0mself\u001b[0m\u001b[1;33m.\u001b[0m\u001b[0msendcmd\u001b[0m\u001b[1;33m(\u001b[0m\u001b[1;34m'TYPE A'\u001b[0m\u001b[1;33m)\u001b[0m\u001b[1;33m\u001b[0m\u001b[1;33m\u001b[0m\u001b[0m\n\u001b[1;32m--> 462\u001b[1;33m         \u001b[1;32mwith\u001b[0m \u001b[0mself\u001b[0m\u001b[1;33m.\u001b[0m\u001b[0mtransfercmd\u001b[0m\u001b[1;33m(\u001b[0m\u001b[0mcmd\u001b[0m\u001b[1;33m)\u001b[0m \u001b[1;32mas\u001b[0m \u001b[0mconn\u001b[0m\u001b[1;33m,\u001b[0m\u001b[0;31m \u001b[0m\u001b[0;31m\\\u001b[0m\u001b[1;33m\u001b[0m\u001b[1;33m\u001b[0m\u001b[0m\n\u001b[0m\u001b[0;32m    463\u001b[0m                  \u001b[0mconn\u001b[0m\u001b[1;33m.\u001b[0m\u001b[0mmakefile\u001b[0m\u001b[1;33m(\u001b[0m\u001b[1;34m'r'\u001b[0m\u001b[1;33m,\u001b[0m \u001b[0mencoding\u001b[0m\u001b[1;33m=\u001b[0m\u001b[0mself\u001b[0m\u001b[1;33m.\u001b[0m\u001b[0mencoding\u001b[0m\u001b[1;33m)\u001b[0m \u001b[1;32mas\u001b[0m \u001b[0mfp\u001b[0m\u001b[1;33m:\u001b[0m\u001b[1;33m\u001b[0m\u001b[1;33m\u001b[0m\u001b[0m\n\u001b[0;32m    464\u001b[0m             \u001b[1;32mwhile\u001b[0m \u001b[1;36m1\u001b[0m\u001b[1;33m:\u001b[0m\u001b[1;33m\u001b[0m\u001b[1;33m\u001b[0m\u001b[0m\n",
      "\u001b[1;32m~\\anaconda3\\lib\\ftplib.py\u001b[0m in \u001b[0;36mtransfercmd\u001b[1;34m(self, cmd, rest)\u001b[0m\n\u001b[0;32m    391\u001b[0m     \u001b[1;32mdef\u001b[0m \u001b[0mtransfercmd\u001b[0m\u001b[1;33m(\u001b[0m\u001b[0mself\u001b[0m\u001b[1;33m,\u001b[0m \u001b[0mcmd\u001b[0m\u001b[1;33m,\u001b[0m \u001b[0mrest\u001b[0m\u001b[1;33m=\u001b[0m\u001b[1;32mNone\u001b[0m\u001b[1;33m)\u001b[0m\u001b[1;33m:\u001b[0m\u001b[1;33m\u001b[0m\u001b[1;33m\u001b[0m\u001b[0m\n\u001b[0;32m    392\u001b[0m         \u001b[1;34m\"\"\"Like ntransfercmd() but returns only the socket.\"\"\"\u001b[0m\u001b[1;33m\u001b[0m\u001b[1;33m\u001b[0m\u001b[0m\n\u001b[1;32m--> 393\u001b[1;33m         \u001b[1;32mreturn\u001b[0m \u001b[0mself\u001b[0m\u001b[1;33m.\u001b[0m\u001b[0mntransfercmd\u001b[0m\u001b[1;33m(\u001b[0m\u001b[0mcmd\u001b[0m\u001b[1;33m,\u001b[0m \u001b[0mrest\u001b[0m\u001b[1;33m)\u001b[0m\u001b[1;33m[\u001b[0m\u001b[1;36m0\u001b[0m\u001b[1;33m]\u001b[0m\u001b[1;33m\u001b[0m\u001b[1;33m\u001b[0m\u001b[0m\n\u001b[0m\u001b[0;32m    394\u001b[0m \u001b[1;33m\u001b[0m\u001b[0m\n\u001b[0;32m    395\u001b[0m     \u001b[1;32mdef\u001b[0m \u001b[0mlogin\u001b[0m\u001b[1;33m(\u001b[0m\u001b[0mself\u001b[0m\u001b[1;33m,\u001b[0m \u001b[0muser\u001b[0m \u001b[1;33m=\u001b[0m \u001b[1;34m''\u001b[0m\u001b[1;33m,\u001b[0m \u001b[0mpasswd\u001b[0m \u001b[1;33m=\u001b[0m \u001b[1;34m''\u001b[0m\u001b[1;33m,\u001b[0m \u001b[0macct\u001b[0m \u001b[1;33m=\u001b[0m \u001b[1;34m''\u001b[0m\u001b[1;33m)\u001b[0m\u001b[1;33m:\u001b[0m\u001b[1;33m\u001b[0m\u001b[1;33m\u001b[0m\u001b[0m\n",
      "\u001b[1;32m~\\anaconda3\\lib\\ftplib.py\u001b[0m in \u001b[0;36mntransfercmd\u001b[1;34m(self, cmd, rest)\u001b[0m\n\u001b[0;32m    357\u001b[0m                 \u001b[1;32mif\u001b[0m \u001b[0mrest\u001b[0m \u001b[1;32mis\u001b[0m \u001b[1;32mnot\u001b[0m \u001b[1;32mNone\u001b[0m\u001b[1;33m:\u001b[0m\u001b[1;33m\u001b[0m\u001b[1;33m\u001b[0m\u001b[0m\n\u001b[0;32m    358\u001b[0m                     \u001b[0mself\u001b[0m\u001b[1;33m.\u001b[0m\u001b[0msendcmd\u001b[0m\u001b[1;33m(\u001b[0m\u001b[1;34m\"REST %s\"\u001b[0m \u001b[1;33m%\u001b[0m \u001b[0mrest\u001b[0m\u001b[1;33m)\u001b[0m\u001b[1;33m\u001b[0m\u001b[1;33m\u001b[0m\u001b[0m\n\u001b[1;32m--> 359\u001b[1;33m                 \u001b[0mresp\u001b[0m \u001b[1;33m=\u001b[0m \u001b[0mself\u001b[0m\u001b[1;33m.\u001b[0m\u001b[0msendcmd\u001b[0m\u001b[1;33m(\u001b[0m\u001b[0mcmd\u001b[0m\u001b[1;33m)\u001b[0m\u001b[1;33m\u001b[0m\u001b[1;33m\u001b[0m\u001b[0m\n\u001b[0m\u001b[0;32m    360\u001b[0m                 \u001b[1;31m# Some servers apparently send a 200 reply to\u001b[0m\u001b[1;33m\u001b[0m\u001b[1;33m\u001b[0m\u001b[0m\n\u001b[0;32m    361\u001b[0m                 \u001b[1;31m# a LIST or STOR command, before the 150 reply\u001b[0m\u001b[1;33m\u001b[0m\u001b[1;33m\u001b[0m\u001b[0m\n",
      "\u001b[1;32m~\\anaconda3\\lib\\ftplib.py\u001b[0m in \u001b[0;36msendcmd\u001b[1;34m(self, cmd)\u001b[0m\n\u001b[0;32m    279\u001b[0m         \u001b[1;34m'''Send a command and return the response.'''\u001b[0m\u001b[1;33m\u001b[0m\u001b[1;33m\u001b[0m\u001b[0m\n\u001b[0;32m    280\u001b[0m         \u001b[0mself\u001b[0m\u001b[1;33m.\u001b[0m\u001b[0mputcmd\u001b[0m\u001b[1;33m(\u001b[0m\u001b[0mcmd\u001b[0m\u001b[1;33m)\u001b[0m\u001b[1;33m\u001b[0m\u001b[1;33m\u001b[0m\u001b[0m\n\u001b[1;32m--> 281\u001b[1;33m         \u001b[1;32mreturn\u001b[0m \u001b[0mself\u001b[0m\u001b[1;33m.\u001b[0m\u001b[0mgetresp\u001b[0m\u001b[1;33m(\u001b[0m\u001b[1;33m)\u001b[0m\u001b[1;33m\u001b[0m\u001b[1;33m\u001b[0m\u001b[0m\n\u001b[0m\u001b[0;32m    282\u001b[0m \u001b[1;33m\u001b[0m\u001b[0m\n\u001b[0;32m    283\u001b[0m     \u001b[1;32mdef\u001b[0m \u001b[0mvoidcmd\u001b[0m\u001b[1;33m(\u001b[0m\u001b[0mself\u001b[0m\u001b[1;33m,\u001b[0m \u001b[0mcmd\u001b[0m\u001b[1;33m)\u001b[0m\u001b[1;33m:\u001b[0m\u001b[1;33m\u001b[0m\u001b[1;33m\u001b[0m\u001b[0m\n",
      "\u001b[1;32m~\\anaconda3\\lib\\ftplib.py\u001b[0m in \u001b[0;36mgetresp\u001b[1;34m(self)\u001b[0m\n\u001b[0;32m    252\u001b[0m             \u001b[1;32mraise\u001b[0m \u001b[0merror_temp\u001b[0m\u001b[1;33m(\u001b[0m\u001b[0mresp\u001b[0m\u001b[1;33m)\u001b[0m\u001b[1;33m\u001b[0m\u001b[1;33m\u001b[0m\u001b[0m\n\u001b[0;32m    253\u001b[0m         \u001b[1;32mif\u001b[0m \u001b[0mc\u001b[0m \u001b[1;33m==\u001b[0m \u001b[1;34m'5'\u001b[0m\u001b[1;33m:\u001b[0m\u001b[1;33m\u001b[0m\u001b[1;33m\u001b[0m\u001b[0m\n\u001b[1;32m--> 254\u001b[1;33m             \u001b[1;32mraise\u001b[0m \u001b[0merror_perm\u001b[0m\u001b[1;33m(\u001b[0m\u001b[0mresp\u001b[0m\u001b[1;33m)\u001b[0m\u001b[1;33m\u001b[0m\u001b[1;33m\u001b[0m\u001b[0m\n\u001b[0m\u001b[0;32m    255\u001b[0m         \u001b[1;32mraise\u001b[0m \u001b[0merror_proto\u001b[0m\u001b[1;33m(\u001b[0m\u001b[0mresp\u001b[0m\u001b[1;33m)\u001b[0m\u001b[1;33m\u001b[0m\u001b[1;33m\u001b[0m\u001b[0m\n\u001b[0;32m    256\u001b[0m \u001b[1;33m\u001b[0m\u001b[0m\n",
      "\u001b[1;31merror_perm\u001b[0m: 501 Couldn't open the directory"
     ]
    }
   ],
   "source": [
    "#Asia server\n",
    "\n",
    "filenames = []\n",
    "data = []\n",
    "files = []\n",
    "\n",
    "\n",
    "def get_dirs_ftp(folder=\"\"):\n",
    "    contents = ftp.nlst(folder)\n",
    "    folders = []\n",
    "    for item in contents:\n",
    "        if \".\" not in item:\n",
    "            folders.append(item)\n",
    "            #print(item)\n",
    "            for name, facts in ftp.mlsd(item):\n",
    "                if facts['type'] == 'file': \n",
    "                    print(f'Found file {(item + \"/\" + name)}')\n",
    "                    files.append({'file': item + \"/\" + name, 'modify': facts['modify']}) \n",
    "                \n",
    "    return folders\n",
    "def get_all_dirs_ftp(folder=\"\"):\n",
    "    dirs = []\n",
    "    new_dirs = []\n",
    "    new_dirs = get_dirs_ftp(folder)\n",
    "    while len(new_dirs) > 0:\n",
    "        for dir in new_dirs:\n",
    "            dirs.append(dir)\n",
    "\n",
    "        old_dirs = new_dirs[:]\n",
    "        new_dirs = []\n",
    "        for dir in old_dirs:\n",
    "            for new_dir in get_dirs_ftp(dir):\n",
    "                new_dirs.append(new_dir)\n",
    "                #print(dir)\n",
    "    \n",
    "        \n",
    "    dirs.sort()\n",
    "    return dirs\n",
    "\n",
    "allfiles = []\n",
    "all_dirs = get_all_dirs_ftp()"
   ]
  },
  {
   "cell_type": "code",
   "execution_count": 22,
   "id": "5d8e9ec0",
   "metadata": {},
   "outputs": [
    {
     "data": {
      "text/plain": [
       "'#Eur server\\n\\nfiles = []\\n\\n#remove = [\\'/20220919\\', \\'/20220920\\', \\'/20220921\\', \\'/20220922\\', \\'/20220923\\', \\'/20220926\\', \\'/20220927\\', \\'/20221004\\', \\'/20221005\\', \\'/20221006\\', \\'/20221007\\', \\'/20221009\\', \\'/20221010\\', \\'/20221012\\', \\'/20221013\\', \\'/20221014\\', \\'/20221017\\', \\'/20221018\\', \\'/20221019\\', \\'/20221020\\', \\'/20221022\\', \\'/20221024\\', \\'/20221027\\', \\'/20221028\\', \\'/20221101\\', \\'/20221102\\', \\'/20221103\\', \\'/20221114\\', \\'/20221117\\', \\'/20221121\\', \\'/20221122\\', \\'/20221123\\', \\'/20221124\\', \\'/20221125\\', \\'/20221202\\', \\'/20221205\\']\\nremove = [\\'/Czech\\', \\'/French\\', \\'/German\\', \\'/Greek\\', \\'/Italian\\', \\'/Poland\\', \\'/Portuguese\\', \\'/Spanish\\']\\n\\ndef get_dirs_ftp(folder=\"\"):\\n    #print(\\'folder:\\',folder)\\n    contents = ftp.nlst(folder)\\n    \\n    absolute_path = [folder + \"/\"+ x for x in contents]\\n    folders = []\\n    \\n    for item, path in zip(contents, absolute_path):\\n        if \".\" not in item:\\n            folders.append(item)\\n               \\n            if path not in remove:\\n                print(path)\\n                for name, facts in ftp.mlsd(path):\\n                    if facts[\\'type\\'] == \\'file\\' and \".wav\" in name: \\n                       \\n                        print(f\\'Found file {(path + \"/\" + name)}\\')\\n                        files.append({\\'file\\': path + \"/\" + name, \\'modify\\': facts[\\'modify\\']})\\n            \\n    return folders\\n\\n    \\ndef get_all_dirs_ftp(folder=\"\"):\\n    \\n    dirs = []\\n    new_dirs = []\\n    new_dirs = get_dirs_ftp(folder)\\n    \\n    while len(new_dirs) > 0:\\n        for dir in new_dirs:\\n            dirs.append(dir)\\n\\n        old_dirs = new_dirs[:]\\n        new_dirs = []\\n        for directory in old_dirs:\\n            for new_dir in get_dirs_ftp(directory):\\n                new_dir = directory + \"/\" + new_dir \\n                new_dirs.append(new_dir)\\n                \\n                \\n    dirs.sort()\\n    return dirs\\n\\n\\nallfiles = []\\nall_dirs = get_all_dirs_ftp()'"
      ]
     },
     "execution_count": 22,
     "metadata": {},
     "output_type": "execute_result"
    }
   ],
   "source": [
    "#Eur server\n",
    "\n",
    "files = []\n",
    "\n",
    "#remove = ['/20220919', '/20220920', '/20220921', '/20220922', '/20220923', '/20220926', '/20220927', '/20221004', '/20221005', '/20221006', '/20221007', '/20221009', '/20221010', '/20221012', '/20221013', '/20221014', '/20221017', '/20221018', '/20221019', '/20221020', '/20221022', '/20221024', '/20221027', '/20221028', '/20221101', '/20221102', '/20221103', '/20221114', '/20221117', '/20221121', '/20221122', '/20221123', '/20221124', '/20221125', '/20221202', '/20221205']\n",
    "remove = ['/Czech', '/French', '/German', '/Greek', '/Italian', '/Poland', '/Portuguese', '/Spanish']\n",
    "\n",
    "def get_dirs_ftp(folder=\"\"):\n",
    "    #print('folder:',folder)\n",
    "    contents = ftp.nlst(folder)\n",
    "    \n",
    "    absolute_path = [folder + \"/\"+ x for x in contents]\n",
    "    folders = []\n",
    "    \n",
    "    for item, path in zip(contents, absolute_path):\n",
    "        if \".\" not in item:\n",
    "            folders.append(item)\n",
    "               \n",
    "            if path not in remove:\n",
    "                print(path)\n",
    "                for name, facts in ftp.mlsd(path):\n",
    "                    if facts['type'] == 'file' and \".wav\" in name: \n",
    "                       \n",
    "                        print(f'Found file {(path + \"/\" + name)}')\n",
    "                        files.append({'file': path + \"/\" + name, 'modify': facts['modify']})\n",
    "            \n",
    "    return folders\n",
    "\n",
    "    \n",
    "def get_all_dirs_ftp(folder=\"\"):\n",
    "    \n",
    "    dirs = []\n",
    "    new_dirs = []\n",
    "    new_dirs = get_dirs_ftp(folder)\n",
    "    \n",
    "    while len(new_dirs) > 0:\n",
    "        for dir in new_dirs:\n",
    "            dirs.append(dir)\n",
    "\n",
    "        old_dirs = new_dirs[:]\n",
    "        new_dirs = []\n",
    "        for directory in old_dirs:\n",
    "            for new_dir in get_dirs_ftp(directory):\n",
    "                new_dir = directory + \"/\" + new_dir \n",
    "                new_dirs.append(new_dir)\n",
    "                \n",
    "                \n",
    "    dirs.sort()\n",
    "    return dirs\n",
    "\n",
    "\n",
    "allfiles = []\n",
    "all_dirs = get_all_dirs_ftp()"
   ]
  },
  {
   "cell_type": "code",
   "execution_count": 23,
   "id": "7d60e5bd",
   "metadata": {},
   "outputs": [
    {
     "data": {
      "text/plain": [
       "\"df = pd.DataFrame(files)\\ndf.rename(columns = {'file':'original'}, inplace = True)\\n\\ndf\""
      ]
     },
     "execution_count": 23,
     "metadata": {},
     "output_type": "execute_result"
    }
   ],
   "source": [
    "df = pd.DataFrame(files)\n",
    "df.rename(columns = {'file':'original'}, inplace = True)\n",
    "\n",
    "df"
   ]
  },
  {
   "cell_type": "code",
   "execution_count": 24,
   "id": "4a079536",
   "metadata": {},
   "outputs": [
    {
     "data": {
      "text/plain": [
       "'df[\\'file1\\'] = df[\\'original\\'].str.rsplit(\\'/\\', n=1).str.get(0)\\nsix_chars = df[\\'original\\'].str.split(\"_\").str[1]\\ndf[\\'combined\\'] = df[\\'file1\\'] + \"/\" + six_chars\\ndf'"
      ]
     },
     "execution_count": 24,
     "metadata": {},
     "output_type": "execute_result"
    }
   ],
   "source": [
    "df['file1'] = df['original'].str.rsplit('/', n=1).str.get(0)\n",
    "six_chars = df['original'].str.split(\"_\").str[1]\n",
    "df['combined'] = df['file1'] + \"/\" + six_chars\n",
    "df"
   ]
  },
  {
   "cell_type": "code",
   "execution_count": 21,
   "id": "d54cefe5",
   "metadata": {},
   "outputs": [],
   "source": [
    "df.to_csv(\"D:/FTP_old.csv\")"
   ]
  },
  {
   "cell_type": "code",
   "execution_count": null,
   "id": "26142dc4",
   "metadata": {},
   "outputs": [],
   "source": []
  }
 ],
 "metadata": {
  "kernelspec": {
   "display_name": "Python 3 (ipykernel)",
   "language": "python",
   "name": "python3"
  },
  "language_info": {
   "codemirror_mode": {
    "name": "ipython",
    "version": 3
   },
   "file_extension": ".py",
   "mimetype": "text/x-python",
   "name": "python",
   "nbconvert_exporter": "python",
   "pygments_lexer": "ipython3",
   "version": "3.9.7"
  }
 },
 "nbformat": 4,
 "nbformat_minor": 5
}
