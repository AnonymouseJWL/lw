{
 "cells": [
  {
   "cell_type": "markdown",
   "id": "1b6d5716",
   "metadata": {},
   "source": [
    "# Packages"
   ]
  },
  {
   "cell_type": "code",
   "execution_count": null,
   "id": "8693e4cd",
   "metadata": {},
   "outputs": [],
   "source": [
    "import psycopg2 \n",
    "import pandas as pd"
   ]
  },
  {
   "cell_type": "markdown",
   "id": "76df193d",
   "metadata": {},
   "source": [
    "# Postgres Connection"
   ]
  },
  {
   "cell_type": "code",
   "execution_count": 2,
   "id": "e5d7b15d",
   "metadata": {},
   "outputs": [],
   "source": [
    "hostname = '54.255.35.251'\n",
    "database = 'lwdw'\n",
    "username = 'pbi'\n",
    "password = 'qA2<KpC$dQrb3mM}'\n",
    "port = 5433\n",
    "\n",
    "conn = psycopg2.connect(\n",
    "            host=hostname,\n",
    "            dbname=database,\n",
    "            user=username,\n",
    "            password=password,\n",
    "            port=port\n",
    ")\n",
    "\n",
    "cur = conn.cursor()\n",
    "\n",
    "execute_script = ''' SELECT client, batch, pass FROM anc_stats_record'''\n",
    "\n",
    "cur.execute(execute_script)\n",
    "data = cur.fetchall()"
   ]
  },
  {
   "cell_type": "code",
   "execution_count": 3,
   "id": "24c9520c",
   "metadata": {},
   "outputs": [],
   "source": [
    "cols = []\n",
    "for elt in cur.description:\n",
    "  cols.append(elt[0])\n",
    "\n",
    "\n",
    "data = pd.DataFrame(data=data, columns =cols)"
   ]
  },
  {
   "cell_type": "code",
   "execution_count": 1,
   "id": "c27eb4ec",
   "metadata": {},
   "outputs": [],
   "source": [
    "data"
   ]
  },
  {
   "cell_type": "code",
   "execution_count": 5,
   "id": "f352f9ce",
   "metadata": {},
   "outputs": [],
   "source": [
    "#data = data[data['client'].str.startswith('P1_')]"
   ]
  },
  {
   "cell_type": "code",
   "execution_count": 6,
   "id": "d33f6a3f",
   "metadata": {},
   "outputs": [],
   "source": [
    "#pass_list = ['Key', 'Core_QCLA', 'QCLA']\n",
    "#testing = ['Classfication', 'test', 'Test', 'P1_62269.IDX.013_PH_Test']\n",
    "\n",
    "#data = data[data['pass'].isin(pass_list)]\n",
    "#data = data[~data['client'].isin(testing)]"
   ]
  },
  {
   "cell_type": "code",
   "execution_count": 5,
   "id": "62588a00",
   "metadata": {},
   "outputs": [],
   "source": [
    "#remove = ['P1_90', 'P1_62306', 'P1_62281', 'P1_62266', 'P1_7619', 'P1_62049', 'P1_62025', 'P1_62005', 'P1_61885',\n",
    "          #'P1_61607', 'P1_1499', 'P1_48520', 'P1_5246', 'P1_61634', 'P1_61799']\n",
    "\n",
    "#for i in remove:\n",
    "    #data = data[~data['client'].astype(str).str.startswith(i)]\n",
    "\n",
    "data['client'] = data['client'].str.replace('-','_').replace('P1_9088_CN_KSWGNew_Key', 'P1_9088_CN_KSWG_Key').replace('_New','')\n",
    "\n",
    "data['Project Name'] = data['client'].apply(lambda x: \"_\".join(x.split('_',2)[:2]))\n",
    "data['Project Name'] = data['Project Name'].str.replace('P1_', 'P')"
   ]
  },
  {
   "cell_type": "code",
   "execution_count": 3,
   "id": "7e203a34",
   "metadata": {},
   "outputs": [],
   "source": [
    "data"
   ]
  },
  {
   "cell_type": "code",
   "execution_count": 7,
   "id": "5b500ee3",
   "metadata": {},
   "outputs": [],
   "source": [
    "data['Text_Split'] = data['batch'].str.split(\"_\").str[1]"
   ]
  },
  {
   "cell_type": "code",
   "execution_count": 2,
   "id": "cd8340ff",
   "metadata": {},
   "outputs": [],
   "source": [
    "data"
   ]
  },
  {
   "cell_type": "code",
   "execution_count": 9,
   "id": "c4ef0b30",
   "metadata": {},
   "outputs": [],
   "source": [
    "data.to_csv(\"D:/anc_stats_record_clean.csv\")"
   ]
  },
  {
   "cell_type": "code",
   "execution_count": 10,
   "id": "c4fb2bb9",
   "metadata": {},
   "outputs": [],
   "source": [
    "data_unique = data.Text_Split.unique()\n",
    "data_unique = pd.DataFrame(data_unique)"
   ]
  },
  {
   "cell_type": "code",
   "execution_count": 11,
   "id": "ff4dd9d8",
   "metadata": {},
   "outputs": [],
   "source": [
    "data_unique.to_csv(\"D:/data_unique.csv\")"
   ]
  }
 ],
 "metadata": {
  "kernelspec": {
   "display_name": "Python 3 (ipykernel)",
   "language": "python",
   "name": "python3"
  },
  "language_info": {
   "codemirror_mode": {
    "name": "ipython",
    "version": 3
   },
   "file_extension": ".py",
   "mimetype": "text/x-python",
   "name": "python",
   "nbconvert_exporter": "python",
   "pygments_lexer": "ipython3",
   "version": "3.9.7"
  }
 },
 "nbformat": 4,
 "nbformat_minor": 5
}
